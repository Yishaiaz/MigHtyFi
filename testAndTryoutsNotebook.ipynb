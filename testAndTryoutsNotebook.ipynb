{
 "cells": [
  {
   "cell_type": "code",
   "execution_count": 1,
   "outputs": [],
   "source": [
    "import os\n",
    "import numpy as np\n",
    "import pandas as pd\n",
    "from nltk import DecisionTreeClassifier\n",
    "from sklearn.discriminant_analysis import LinearDiscriminantAnalysis\n",
    "from sklearn.linear_model import LogisticRegression\n",
    "from sklearn.naive_bayes import GaussianNB\n",
    "from sklearn.neural_network import MLPRegressor\n",
    "from sklearn import preprocessing\n",
    "import sklearn as skl\n",
    "from sklearn.preprocessing import MinMaxScaler\n",
    "from sklearn.svm import SVC\n"
   ],
   "metadata": {
    "collapsed": false,
    "pycharm": {
     "name": "#%%\n",
     "is_executing": false
    }
   }
  },
  {
   "cell_type": "code",
   "execution_count": 2,
   "outputs": [],
   "source": [
    "FEATURE_NUMBER = 13\n",
    "PATH_TO_FILE = \"/Users/yishaiazabary/PycharmProjects/MigHtyFi/data_2015.csv\"\n",
    "\n",
    "\n",
    "data_frame =  pd.read_csv(PATH_TO_FILE)\n",
    "\n",
    "# "
   ],
   "metadata": {
    "collapsed": false,
    "pycharm": {
     "name": "#%%\n",
     "is_executing": false
    }
   }
  },
  {
   "cell_type": "code",
   "execution_count": 3,
   "outputs": [],
   "source": [
    "df = data_frame.iloc[:,1:]\n",
    "data =  preprocessing.normalize(df, norm='l1')"
   ],
   "metadata": {
    "collapsed": false,
    "pycharm": {
     "name": "#%%\n",
     "is_executing": false
    }
   }
  },
  {
   "cell_type": "code",
   "execution_count": 47,
   "outputs": [
    {
     "traceback": [
      "\u001b[0;31m---------------------------------------------------------------------------\u001b[0m",
      "\u001b[0;31mAttributeError\u001b[0m                            Traceback (most recent call last)",
      "\u001b[0;32m<ipython-input-47-63dc1514b52e>\u001b[0m in \u001b[0;36m<module>\u001b[0;34m\u001b[0m\n\u001b[0;32m----> 1\u001b[0;31m \u001b[0mdf\u001b[0m\u001b[0;34m.\u001b[0m\u001b[0mhist\u001b[0m\u001b[0;34m(\u001b[0m\u001b[0;34m)\u001b[0m\u001b[0;34m.\u001b[0m\u001b[0msavefig\u001b[0m\u001b[0;34m(\u001b[0m\u001b[0;34m\"try.png\"\u001b[0m\u001b[0;34m,\u001b[0m \u001b[0mdpi\u001b[0m\u001b[0;34m=\u001b[0m\u001b[0;36m200\u001b[0m\u001b[0;34m)\u001b[0m\u001b[0;34m\u001b[0m\u001b[0;34m\u001b[0m\u001b[0m\n\u001b[0m",
      "\u001b[0;31mAttributeError\u001b[0m: 'numpy.ndarray' object has no attribute 'savefig'"
     ],
     "ename": "AttributeError",
     "evalue": "'numpy.ndarray' object has no attribute 'savefig'",
     "output_type": "error"
    },
    {
     "data": {
      "text/plain": "<Figure size 432x288 with 16 Axes>",
      "image/png": "[encoded data removed]"
     },
     "metadata": {
      "needs_background": "light"
     },
     "output_type": "display_data"
    }
   ],
   "source": [
    "df.hist()"
   ],
   "metadata": {
    "collapsed": false,
    "pycharm": {
     "name": "#%%\n",
     "is_executing": false
    }
   }
  },
  {
   "cell_type": "code",
   "execution_count": 48,
   "outputs": [],
   "source": [
    "scaler = MinMaxScaler(feature_range=(-1,1))\n",
    "data = scaler.fit_transform(df)\n"
   ],
   "metadata": {
    "collapsed": false,
    "pycharm": {
     "name": "#%%\n",
     "is_executing": false
    }
   }
  },
  {
   "cell_type": "code",
   "execution_count": 5,
   "outputs": [
    {
     "traceback": [
      "\u001b[0;31m---------------------------------------------------------------------------\u001b[0m",
      "\u001b[0;31mKeyboardInterrupt\u001b[0m                         Traceback (most recent call last)",
      "\u001b[0;32m<ipython-input-5-350612c3f9d3>\u001b[0m in \u001b[0;36m<module>\u001b[0;34m\u001b[0m\n\u001b[1;32m     13\u001b[0m \u001b[0;31m# data = pd.DataFrame(data)\u001b[0m\u001b[0;34m\u001b[0m\u001b[0;34m\u001b[0m\u001b[0;34m\u001b[0m\u001b[0m\n\u001b[1;32m     14\u001b[0m \u001b[0;31m# res\u001b[0m\u001b[0;34m\u001b[0m\u001b[0;34m\u001b[0m\u001b[0;34m\u001b[0m\u001b[0m\n\u001b[0;32m---> 15\u001b[0;31m X_train, X_test, y_train, y_test = model_selection.train_test_split(data, y,\n\u001b[0m\u001b[1;32m     16\u001b[0m                                                                             \u001b[0mtest_size\u001b[0m\u001b[0;34m=\u001b[0m\u001b[0;36m0.1\u001b[0m\u001b[0;34m,\u001b[0m\u001b[0;34m\u001b[0m\u001b[0;34m\u001b[0m\u001b[0m\n\u001b[1;32m     17\u001b[0m                                                                             \u001b[0mrandom_state\u001b[0m\u001b[0;34m=\u001b[0m\u001b[0;36m42\u001b[0m\u001b[0;34m,\u001b[0m\u001b[0;34m\u001b[0m\u001b[0;34m\u001b[0m\u001b[0m\n",
      "\u001b[0;32m<ipython-input-5-350612c3f9d3>\u001b[0m in \u001b[0;36m<module>\u001b[0;34m\u001b[0m\n\u001b[1;32m     13\u001b[0m \u001b[0;31m# data = pd.DataFrame(data)\u001b[0m\u001b[0;34m\u001b[0m\u001b[0;34m\u001b[0m\u001b[0;34m\u001b[0m\u001b[0m\n\u001b[1;32m     14\u001b[0m \u001b[0;31m# res\u001b[0m\u001b[0;34m\u001b[0m\u001b[0;34m\u001b[0m\u001b[0;34m\u001b[0m\u001b[0m\n\u001b[0;32m---> 15\u001b[0;31m X_train, X_test, y_train, y_test = model_selection.train_test_split(data, y,\n\u001b[0m\u001b[1;32m     16\u001b[0m                                                                             \u001b[0mtest_size\u001b[0m\u001b[0;34m=\u001b[0m\u001b[0;36m0.1\u001b[0m\u001b[0;34m,\u001b[0m\u001b[0;34m\u001b[0m\u001b[0;34m\u001b[0m\u001b[0m\n\u001b[1;32m     17\u001b[0m                                                                             \u001b[0mrandom_state\u001b[0m\u001b[0;34m=\u001b[0m\u001b[0;36m42\u001b[0m\u001b[0;34m,\u001b[0m\u001b[0;34m\u001b[0m\u001b[0;34m\u001b[0m\u001b[0m\n",
      "\u001b[0;32m_pydevd_bundle/pydevd_cython_darwin_37_64.pyx\u001b[0m in \u001b[0;36m_pydevd_bundle.pydevd_cython_darwin_37_64.SafeCallWrapper.__call__\u001b[0;34m()\u001b[0m\n",
      "\u001b[0;32m_pydevd_bundle/pydevd_cython_darwin_37_64.pyx\u001b[0m in \u001b[0;36m_pydevd_bundle.pydevd_cython_darwin_37_64.PyDBFrame.trace_dispatch\u001b[0;34m()\u001b[0m\n",
      "\u001b[0;32m_pydevd_bundle/pydevd_cython_darwin_37_64.pyx\u001b[0m in \u001b[0;36m_pydevd_bundle.pydevd_cython_darwin_37_64.PyDBFrame.trace_dispatch\u001b[0;34m()\u001b[0m\n",
      "\u001b[0;32m_pydevd_bundle/pydevd_cython_darwin_37_64.pyx\u001b[0m in \u001b[0;36m_pydevd_bundle.pydevd_cython_darwin_37_64.PyDBFrame.trace_dispatch\u001b[0;34m()\u001b[0m\n",
      "\u001b[0;32m_pydevd_bundle/pydevd_cython_darwin_37_64.pyx\u001b[0m in \u001b[0;36m_pydevd_bundle.pydevd_cython_darwin_37_64.PyDBFrame.do_wait_suspend\u001b[0;34m()\u001b[0m\n",
      "\u001b[0;32m/Applications/PyCharm.app/Contents/helpers/pydev/pydevd.py\u001b[0m in \u001b[0;36mdo_wait_suspend\u001b[0;34m(self, thread, frame, event, arg, send_suspend_message, is_unhandled_exception)\u001b[0m\n\u001b[1;32m   1086\u001b[0m \u001b[0;34m\u001b[0m\u001b[0m\n\u001b[1;32m   1087\u001b[0m         \u001b[0;32mwith\u001b[0m \u001b[0mself\u001b[0m\u001b[0;34m.\u001b[0m\u001b[0m_threads_suspended_single_notification\u001b[0m\u001b[0;34m.\u001b[0m\u001b[0mnotify_thread_suspended\u001b[0m\u001b[0;34m(\u001b[0m\u001b[0mthread_id\u001b[0m\u001b[0;34m,\u001b[0m \u001b[0mstop_reason\u001b[0m\u001b[0;34m)\u001b[0m\u001b[0;34m:\u001b[0m\u001b[0;34m\u001b[0m\u001b[0;34m\u001b[0m\u001b[0m\n\u001b[0;32m-> 1088\u001b[0;31m             \u001b[0mself\u001b[0m\u001b[0;34m.\u001b[0m\u001b[0m_do_wait_suspend\u001b[0m\u001b[0;34m(\u001b[0m\u001b[0mthread\u001b[0m\u001b[0;34m,\u001b[0m \u001b[0mframe\u001b[0m\u001b[0;34m,\u001b[0m \u001b[0mevent\u001b[0m\u001b[0;34m,\u001b[0m \u001b[0marg\u001b[0m\u001b[0;34m,\u001b[0m \u001b[0msuspend_type\u001b[0m\u001b[0;34m,\u001b[0m \u001b[0mfrom_this_thread\u001b[0m\u001b[0;34m)\u001b[0m\u001b[0;34m\u001b[0m\u001b[0;34m\u001b[0m\u001b[0m\n\u001b[0m\u001b[1;32m   1089\u001b[0m \u001b[0;34m\u001b[0m\u001b[0m\n\u001b[1;32m   1090\u001b[0m     \u001b[0;32mdef\u001b[0m \u001b[0m_do_wait_suspend\u001b[0m\u001b[0;34m(\u001b[0m\u001b[0mself\u001b[0m\u001b[0;34m,\u001b[0m \u001b[0mthread\u001b[0m\u001b[0;34m,\u001b[0m \u001b[0mframe\u001b[0m\u001b[0;34m,\u001b[0m \u001b[0mevent\u001b[0m\u001b[0;34m,\u001b[0m \u001b[0marg\u001b[0m\u001b[0;34m,\u001b[0m \u001b[0msuspend_type\u001b[0m\u001b[0;34m,\u001b[0m \u001b[0mfrom_this_thread\u001b[0m\u001b[0;34m)\u001b[0m\u001b[0;34m:\u001b[0m\u001b[0;34m\u001b[0m\u001b[0;34m\u001b[0m\u001b[0m\n",
      "\u001b[0;32m/Applications/PyCharm.app/Contents/helpers/pydev/pydevd.py\u001b[0m in \u001b[0;36m_do_wait_suspend\u001b[0;34m(self, thread, frame, event, arg, suspend_type, from_this_thread)\u001b[0m\n\u001b[1;32m   1101\u001b[0m \u001b[0;34m\u001b[0m\u001b[0m\n\u001b[1;32m   1102\u001b[0m                 \u001b[0mself\u001b[0m\u001b[0;34m.\u001b[0m\u001b[0mprocess_internal_commands\u001b[0m\u001b[0;34m(\u001b[0m\u001b[0;34m)\u001b[0m\u001b[0;34m\u001b[0m\u001b[0;34m\u001b[0m\u001b[0m\n\u001b[0;32m-> 1103\u001b[0;31m                 \u001b[0mtime\u001b[0m\u001b[0;34m.\u001b[0m\u001b[0msleep\u001b[0m\u001b[0;34m(\u001b[0m\u001b[0;36m0.01\u001b[0m\u001b[0;34m)\u001b[0m\u001b[0;34m\u001b[0m\u001b[0;34m\u001b[0m\u001b[0m\n\u001b[0m\u001b[1;32m   1104\u001b[0m \u001b[0;34m\u001b[0m\u001b[0m\n\u001b[1;32m   1105\u001b[0m         \u001b[0mself\u001b[0m\u001b[0;34m.\u001b[0m\u001b[0mcancel_async_evaluation\u001b[0m\u001b[0;34m(\u001b[0m\u001b[0mget_current_thread_id\u001b[0m\u001b[0;34m(\u001b[0m\u001b[0mthread\u001b[0m\u001b[0;34m)\u001b[0m\u001b[0;34m,\u001b[0m \u001b[0mstr\u001b[0m\u001b[0;34m(\u001b[0m\u001b[0mid\u001b[0m\u001b[0;34m(\u001b[0m\u001b[0mframe\u001b[0m\u001b[0;34m)\u001b[0m\u001b[0;34m)\u001b[0m\u001b[0;34m)\u001b[0m\u001b[0;34m\u001b[0m\u001b[0;34m\u001b[0m\u001b[0m\n",
      "\u001b[0;31mKeyboardInterrupt\u001b[0m: "
     ],
     "ename": "KeyboardInterrupt",
     "evalue": "",
     "output_type": "error"
    }
   ],
   "source": [
    "from sklearn.neighbors import NearestNeighbors, KNeighborsClassifier\n",
    "import sklearn.model_selection as model_selection\n",
    "from sklearn.preprocessing import MinMaxScaler\n",
    "\n",
    "\n",
    "mn = MinMaxScaler(feature_range=(-1, 1))\n",
    "res = pd.read_csv(\"ExtractedData/Unified.csv\")\n",
    "res.fillna(res.median() ,inplace=True)\n",
    "data = res.iloc[:, 1:-1].values\n",
    "y = res.iloc[:, -1].values\n",
    "# x_test = res.iloc[len(res)-1:, :]\n",
    "# data = pd.DataFrame(data)\n",
    "# res\n",
    "X_train, X_test, y_train, y_test = model_selection.train_test_split(data, y,\n",
    "                                                                            test_size=0.1,\n",
    "                                                                            random_state=42,\n",
    "                                                                            shuffle=True)\n",
    "# nbrs = NearestNeighbors(n_neighbors=2, algorithm='ball_tree').fit(res)"
   ],
   "metadata": {
    "collapsed": false,
    "pycharm": {
     "name": "#%%\n",
     "is_executing": false
    }
   }
  },
  {
   "cell_type": "code",
   "execution_count": 7,
   "outputs": [],
   "source": [
    "models = []\n",
    "models.append(('LR', LogisticRegression(solver='liblinear', multi_class='ovr')))\n",
    "models.append(('LDA', LinearDiscriminantAnalysis()))\n",
    "models.append(('KNN', KNeighborsClassifier()))\n",
    "# models.append(('CART', DecisionTreeClassifier(label='')))\n",
    "models.append(('NB', GaussianNB()))\n",
    "models.append(('SVM', SVC(gamma='auto')))\n",
    "# evaluate each model in turn\n",
    "results = []\n",
    "names = []\n",
    "\n",
    "# \n",
    "# for name, model in models:\n",
    "#     cv_results = model_selection.cross_val_score(model, X_train, y_train, cv=10, scoring='accuracy')\n",
    "#     results.append(cv_results)\n",
    "#     names.append(name)\n",
    "#     msg = \"%s: %f (%f)\" % (name, cv_results.mean(), cv_results.std())\n",
    "#     print(msg)"
   ],
   "metadata": {
    "collapsed": false,
    "pycharm": {
     "name": "#%%\n",
     "is_executing": false
    }
   }
  },
  {
   "cell_type": "code",
   "execution_count": 8,
   "outputs": [],
   "source": [
    "# k_near = KNeighborsClassifier()\n",
    "# results = model_selection.cross_val_score(k_near, X_train, y_train, cv=10, scoring='accuracy', n_splits=5)\n",
    "# print(results)"
   ],
   "metadata": {
    "collapsed": false,
    "pycharm": {
     "name": "#%%\n",
     "is_executing": false
    }
   }
  },
  {
   "cell_type": "code",
   "execution_count": 29,
   "outputs": [],
   "source": [
    "dataset = pd.read_csv(\"ExtractedData/data_no_name.csv\")\n",
    "dataset.fillna(dataset.median() ,inplace=True)\n",
    "# bins = [0, 100000, 500000,1000000, 100000000, 250000000, 500000000, 1000000000, 10000000000]\n",
    "# labels = [\"{0}-{1}\".format(bins[i],bins[i+1]) for i in range(len(bins)-1)]   \n",
    "X = dataset.iloc[:, 1:-1].values\n",
    "# y = pd.cut(dataset.iloc[:, 17], bins, labels=labels)\n",
    "y = dataset.iloc[:, 17]"
   ],
   "metadata": {
    "collapsed": false,
    "pycharm": {
     "name": "#%%\n",
     "is_executing": false
    }
   }
  },
  {
   "cell_type": "code",
   "execution_count": 30,
   "outputs": [],
   "source": [
    "from sklearn.model_selection import train_test_split\n",
    "X_train, X_test, y_train, y_test = train_test_split(X, y, test_size=0.20)\n",
    "y_train = y_train"
   ],
   "metadata": {
    "collapsed": false,
    "pycharm": {
     "name": "#%%\n",
     "is_executing": false
    }
   }
  },
  {
   "cell_type": "code",
   "execution_count": 31,
   "outputs": [],
   "source": [
    "from sklearn.preprocessing import StandardScaler, KBinsDiscretizer\n",
    "scaler = StandardScaler()\n",
    "scaler.fit(X_train)\n",
    "\n",
    "X_train = scaler.transform(X_train)\n",
    "X_test = scaler.transform(X_test)"
   ],
   "metadata": {
    "collapsed": false,
    "pycharm": {
     "name": "#%%\n",
     "is_executing": false
    }
   }
  },
  {
   "cell_type": "code",
   "execution_count": 32,
   "outputs": [
    {
     "data": {
      "text/plain": "LogisticRegression(C=1.0, class_weight=None, dual=False, fit_intercept=True,\n                   intercept_scaling=1, l1_ratio=None, max_iter=100,\n                   multi_class='auto', n_jobs=None, penalty='l2',\n                   random_state=None, solver='lbfgs', tol=0.0001, verbose=0,\n                   warm_start=False)"
     },
     "metadata": {},
     "output_type": "execute_result",
     "execution_count": 32
    }
   ],
   "source": [
    "from sklearn.neighbors import KNeighborsClassifier\n",
    "# classifier = KNeighborsClassifier(n_neighbors=20)\n",
    "classifier = LogisticRegression()\n",
    "classifier.fit(X_train, y_train)"
   ],
   "metadata": {
    "collapsed": false,
    "pycharm": {
     "name": "#%%\n",
     "is_executing": false
    }
   }
  },
  {
   "cell_type": "code",
   "execution_count": 33,
   "outputs": [
    {
     "name": "stdout",
     "text": [
      "[[0 0 0 ... 0 0 0]\n [0 0 0 ... 0 0 0]\n [0 0 0 ... 0 0 0]\n ...\n [0 0 0 ... 0 0 0]\n [0 0 0 ... 0 0 0]\n [0 0 0 ... 0 0 0]]\n              precision    recall  f1-score   support\n\n      5092.0       0.00      0.00      0.00       0.0\n      5323.0       0.00      0.00      0.00       1.0\n    345024.0       0.00      0.00      0.00       0.0\n    387726.0       0.00      0.00      0.00       0.0\n   1141385.0       0.00      0.00      0.00       1.0\n   1725387.0       0.00      0.00      0.00       0.0\n   2565505.0       0.00      0.00      0.00       1.0\n   3554788.0       0.00      0.00      0.00       1.0\n   3770415.0       0.00      0.00      0.00       1.0\n   3794801.0       0.00      0.00      0.00       0.0\n   4524913.0       0.00      0.00      0.00       0.0\n   4624987.0       0.00      0.00      0.00       1.0\n   5261303.0       0.00      0.00      0.00       1.0\n   6990561.0       0.00      0.00      0.00       0.0\n   7534164.0       0.00      0.00      0.00       1.0\n  10289719.0       0.00      0.00      0.00       0.0\n  10328296.0       0.00      0.00      0.00       1.0\n  11483071.0       0.00      0.00      0.00       1.0\n  11687391.0       0.00      0.00      0.00       1.0\n  12620640.0       0.00      0.00      0.00       0.0\n  13356413.0       0.00      0.00      0.00       1.0\n  14074104.0       0.00      0.00      0.00       1.0\n  19826429.0       0.00      0.00      0.00       1.0\n  21446209.0       0.00      0.00      0.00       1.0\n  21446301.0       0.00      0.00      0.00       1.0\n  22017544.0       0.00      0.00      0.00       1.0\n  22981661.0       0.00      0.00      0.00       1.0\n  23542743.0       0.00      0.00      0.00       0.0\n  24874046.0       0.00      0.00      0.00       1.0\n  30915158.0       0.00      0.00      0.00       0.0\n  34901847.0       0.00      0.00      0.00       1.0\n  35003318.0       0.00      0.00      0.00       1.0\n  35455320.0       0.00      0.00      0.00       1.0\n  36478300.0       0.00      0.00      0.00       1.0\n  40032859.0       0.00      0.00      0.00       1.0\n  42079257.0       0.00      0.00      0.00       0.0\n  43143412.0       0.00      0.00      0.00       0.0\n  43184927.0       0.00      0.00      0.00       0.0\n  44063033.0       0.00      0.00      0.00       1.0\n  48259760.0       0.00      0.00      0.00       0.0\n  49059477.0       0.00      0.00      0.00       1.0\n  49254836.0       0.00      0.00      0.00       0.0\n  49431765.0       0.00      0.00      0.00       0.0\n  50943088.0       0.00      0.00      0.00       0.0\n  52308130.0       0.00      0.00      0.00       0.0\n  53427759.0       0.00      0.00      0.00       1.0\n  54425701.0       0.00      0.00      0.00       0.0\n  56109969.0       0.00      0.00      0.00       1.0\n  56159307.0       0.00      0.00      0.00       0.0\n  56223497.0       0.00      0.00      0.00       0.0\n  60508767.0       0.00      0.00      0.00       1.0\n  60518338.0       0.00      0.00      0.00       1.0\n  62064768.0       0.00      0.00      0.00       1.0\n  63452841.0       0.00      0.00      0.00       1.0\n  64348286.0       0.00      0.00      0.00       0.0\n  64915534.0       0.00      0.00      0.00       0.0\n  68169934.0       0.00      0.00      0.00       0.0\n  68766437.0       0.00      0.00      0.00       0.0\n  70773578.0       0.00      0.00      0.00       1.0\n  75724586.0       0.00      0.00      0.00       1.0\n  78115041.0       0.00      0.00      0.00       1.0\n  85916566.0       0.00      0.00      0.00       1.0\n  87665231.0       0.00      0.00      0.00       1.0\n  94412346.0       0.00      0.00      0.00       1.0\n  95666286.0       0.00      0.00      0.00       0.0\n  98514609.0       0.00      0.00      0.00       1.0\n 102569371.0       0.00      0.00      0.00       1.0\n 104846046.0       0.00      0.00      0.00       0.0\n 108613363.0       0.00      0.00      0.00       1.0\n 111226451.0       0.00      0.00      0.00       1.0\n 117217169.0       0.00      0.00      0.00       0.0\n 128788677.0       0.00      0.00      0.00       0.0\n 135066629.0       0.00      0.00      0.00       1.0\n 135801356.0       0.00      0.00      0.00       1.0\n 137117817.0       0.00      0.00      0.00       1.0\n 141529645.0       0.00      0.00      0.00       0.0\n 144260456.0       0.00      0.00      0.00       1.0\n 147473633.0       0.00      0.00      0.00       1.0\n 149579969.0       0.00      0.00      0.00       0.0\n 151490114.0       0.00      0.00      0.00       1.0\n 152917407.0       0.00      0.00      0.00       0.0\n 153391624.0       0.00      0.00      0.00       0.0\n 153623276.0       0.00      0.00      0.00       0.0\n 153693812.0       0.00      0.00      0.00       1.0\n 155387428.0       0.00      0.00      0.00       0.0\n 158270971.0       0.00      0.00      0.00       1.0\n 162198941.0       0.00      0.00      0.00       1.0\n 164466889.0       0.00      0.00      0.00       0.0\n 164467815.0       0.00      0.00      0.00       1.0\n 165281613.0       0.00      0.00      0.00       1.0\n 167683923.0       0.00      0.00      0.00       0.0\n 170637267.0       0.00      0.00      0.00       0.0\n 172016909.0       0.00      0.00      0.00       1.0\n 176593102.0       0.00      0.00      0.00       1.0\n 178225179.0       0.00      0.00      0.00       1.0\n 181280404.0       0.00      0.00      0.00       1.0\n 192499855.0       0.00      0.00      0.00       0.0\n 196783975.0       0.00      0.00      0.00       1.0\n 199809581.0       0.00      0.00      0.00       1.0\n 220148966.0       0.00      0.00      0.00       0.0\n 228232636.0       0.00      0.00      0.00       1.0\n 228232890.0       0.00      0.00      0.00       0.0\n 230405563.0       0.00      0.00      0.00       0.0\n 239508375.0       0.00      0.00      0.00       1.0\n 240660491.0       0.00      0.00      0.00       1.0\n 240879433.0       0.00      0.00      0.00       1.0\n 240881170.0       0.00      0.00      0.00       1.0\n 247067392.0       0.00      0.00      0.00       0.0\n 247356534.0       0.00      0.00      0.00       0.0\n 257320733.0       0.00      0.00      0.00       1.0\n 268800345.0       0.00      0.00      0.00       0.0\n 279912456.0       0.00      0.00      0.00       1.0\n 281642776.0       0.00      0.00      0.00       0.0\n 284633703.0       0.00      0.00      0.00       0.0\n 290399834.0       0.00      0.00      0.00       1.0\n 290956058.0       0.00      0.00      0.00       1.0\n 296801639.0       0.00      0.00      0.00       0.0\n 303013303.0       0.00      0.00      0.00       1.0\n 306756942.0       0.00      0.00      0.00       1.0\n 320558047.0       0.00      0.00      0.00       1.0\n 328474019.0       0.00      0.00      0.00       0.0\n 341581662.0       0.00      0.00      0.00       1.0\n 342508757.0       0.00      0.00      0.00       1.0\n 346530479.0       0.00      0.00      0.00       0.0\n 353850041.0       0.00      0.00      0.00       0.0\n 390515453.0       0.00      0.00      0.00       1.0\n 409168997.0       0.00      0.00      0.00       1.0\n 411329470.0       0.00      0.00      0.00       0.0\n 433325256.0       0.00      0.00      0.00       0.0\n 433513929.0       0.00      0.00      0.00       0.0\n 433516177.0       0.00      0.00      0.00       1.0\n 435027327.0       0.00      0.00      0.00       0.0\n 440610607.0       0.00      0.00      0.00       1.0\n 453465059.0       0.00      0.00      0.00       1.0\n 466793314.0       0.00      0.00      0.00       1.0\n 467562451.0       0.00      0.00      0.00       1.0\n 493116099.0       0.00      0.00      0.00       1.0\n 496260884.0       0.00      0.00      0.00       1.0\n 496261972.0       0.00      0.00      0.00       0.0\n 534990196.0       0.00      0.00      0.00       0.0\n 540208135.0       0.00      0.00      0.00       1.0\n 569117640.0       0.00      0.00      0.00       0.0\n 610527571.0       0.00      0.00      0.00       1.0\n 616007599.0       0.00      0.00      0.00       1.0\n 629204313.0       0.00      0.00      0.00       1.0\n 629231380.0       0.00      0.00      0.00       0.0\n 631934298.0       0.00      0.00      0.00       0.0\n 656529704.0       0.00      0.00      0.00       1.0\n 658389599.0       0.00      0.00      0.00       1.0\n 658630874.0       0.00      0.00      0.00       0.0\n 693726913.0       0.00      0.00      0.00       1.0\n 739733384.0       0.00      0.00      0.00       0.0\n 751385836.0       0.00      0.00      0.00       0.0\n 852346643.0       0.00      0.00      0.00       0.0\n 883473146.0       0.00      0.00      0.00       0.0\n 906972029.0       0.00      0.00      0.00       0.0\n 906980721.0       0.00      0.00      0.00       0.0\n 933221442.0       0.00      0.00      0.00       1.0\n 966830475.0       0.00      0.00      0.00       1.0\n1018504651.0       0.00      0.00      0.00       1.0\n1055659743.0       0.00      0.00      0.00       0.0\n1082439300.0       0.00      0.00      0.00       1.0\n1116088773.0       0.00      0.00      0.00       1.0\n1191603689.0       0.00      0.00      0.00       0.0\n1203896303.0       0.00      0.00      0.00       1.0\n1328488498.0       0.00      0.00      0.00       1.0\n1355384970.0       0.00      0.00      0.00       0.0\n1366183558.0       0.00      0.00      0.00       0.0\n1422662639.0       0.00      0.00      0.00       0.0\n1436124695.0       0.00      0.00      0.00       0.0\n1438180058.0       0.00      0.00      0.00       0.0\n1580498856.0       0.00      0.00      0.00       0.0\n1696839510.0       0.00      0.00      0.00       0.0\n1788722532.0       0.00      0.00      0.00       0.0\n1930481495.0       0.00      0.00      0.00       1.0\n2181665010.0       0.00      0.00      0.00       0.0\n2301019668.0       0.00      0.00      0.00       1.0\n2341294437.0       0.00      0.00      0.00       0.0\n2611089293.0       0.00      0.00      0.00       1.0\n2708895505.0       0.00      0.00      0.00       0.0\n2876083728.0       0.00      0.00      0.00       0.0\n4546120184.0       0.00      0.00      0.00       1.0\n\n    accuracy                           0.00     100.0\n   macro avg       0.00      0.00      0.00     100.0\nweighted avg       0.00      0.00      0.00     100.0\n\n"
     ],
     "output_type": "stream"
    },
    {
     "name": "stderr",
     "text": [
      "/Users/yishaiazabary/venv/MigHtyFi/lib/python3.7/site-packages/sklearn/metrics/_classification.py:1268: UndefinedMetricWarning: Precision and F-score are ill-defined and being set to 0.0 in labels with no predicted samples. Use `zero_division` parameter to control this behavior.\n  _warn_prf(average, modifier, msg_start, len(result))\n/Users/yishaiazabary/venv/MigHtyFi/lib/python3.7/site-packages/sklearn/metrics/_classification.py:1268: UndefinedMetricWarning: Recall and F-score are ill-defined and being set to 0.0 in labels with no true samples. Use `zero_division` parameter to control this behavior.\n  _warn_prf(average, modifier, msg_start, len(result))\n"
     ],
     "output_type": "stream"
    }
   ],
   "source": [
    "y_pred = classifier.predict(X_test)\n",
    "\n",
    "from sklearn.metrics import classification_report, confusion_matrix\n",
    "print(confusion_matrix(y_test, y_pred))\n",
    "print(classification_report(y_test, y_pred))"
   ],
   "metadata": {
    "collapsed": false,
    "pycharm": {
     "name": "#%%\n",
     "is_executing": false
    }
   }
  }
 ],
 "metadata": {
  "kernelspec": {
   "display_name": "Python 3",
   "language": "python",
   "name": "python3"
  },
  "language_info": {
   "codemirror_mode": {
    "name": "ipython",
    "version": 2
   },
   "file_extension": ".py",
   "mimetype": "text/x-python",
   "name": "python",
   "nbconvert_exporter": "python",
   "pygments_lexer": "ipython2",
   "version": "2.7.6"
  },
  "pycharm": {
   "stem_cell": {
    "cell_type": "raw",
    "source": [],
    "metadata": {
     "collapsed": false
    }
   }
  }
 },
 "nbformat": 4,
 "nbformat_minor": 0
}